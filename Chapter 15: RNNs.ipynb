{
 "cells": [
  {
   "cell_type": "code",
   "execution_count": 4,
   "metadata": {},
   "outputs": [],
   "source": [
    "import torch\n",
    "import numpy as np\n",
    "import torch.nn as nn\n",
    "import torch.nn.functional as F\n",
    "import torch.optim as optim\n",
    "from torch.autograd import Variable\n",
    "import matplotlib.pyplot as plt"
   ]
  },
  {
   "cell_type": "markdown",
   "metadata": {},
   "source": [
    "Project one - Predicting the sentiment of IMDb movie reviews"
   ]
  },
  {
   "cell_type": "code",
   "execution_count": 11,
   "metadata": {},
   "outputs": [
    {
     "ename": "NameError",
     "evalue": "name 'IterableWrapper' is not defined",
     "output_type": "error",
     "traceback": [
      "\u001b[0;31m---------------------------------------------------------------------------\u001b[0m",
      "\u001b[0;31mNameError\u001b[0m                                 Traceback (most recent call last)",
      "\u001b[1;32m/home/long/Desktop/Machine-Learning-with-Scikit-learn-and-Pytorch-BOOK/Chapter 15: RNNs.ipynb Cell 3\u001b[0m in \u001b[0;36m<cell line: 8>\u001b[0;34m()\u001b[0m\n\u001b[1;32m      <a href='vscode-notebook-cell:/home/long/Desktop/Machine-Learning-with-Scikit-learn-and-Pytorch-BOOK/Chapter%2015%3A%20RNNs.ipynb#W3sZmlsZQ%3D%3D?line=0'>1</a>\u001b[0m \u001b[39m# Preparing the movie review data\u001b[39;00m\n\u001b[1;32m      <a href='vscode-notebook-cell:/home/long/Desktop/Machine-Learning-with-Scikit-learn-and-Pytorch-BOOK/Chapter%2015%3A%20RNNs.ipynb#W3sZmlsZQ%3D%3D?line=1'>2</a>\u001b[0m \u001b[39m# We will use the IMDB movie review dataset to train our RNN.\u001b[39;00m\n\u001b[1;32m      <a href='vscode-notebook-cell:/home/long/Desktop/Machine-Learning-with-Scikit-learn-and-Pytorch-BOOK/Chapter%2015%3A%20RNNs.ipynb#W3sZmlsZQ%3D%3D?line=2'>3</a>\u001b[0m \u001b[39m# The dataset is a collection of reviews of movies.\u001b[39;00m\n\u001b[1;32m      <a href='vscode-notebook-cell:/home/long/Desktop/Machine-Learning-with-Scikit-learn-and-Pytorch-BOOK/Chapter%2015%3A%20RNNs.ipynb#W3sZmlsZQ%3D%3D?line=3'>4</a>\u001b[0m \u001b[39m# Each review has a label, indicating if the review is positive or negative.\u001b[39;00m\n\u001b[1;32m      <a href='vscode-notebook-cell:/home/long/Desktop/Machine-Learning-with-Scikit-learn-and-Pytorch-BOOK/Chapter%2015%3A%20RNNs.ipynb#W3sZmlsZQ%3D%3D?line=4'>5</a>\u001b[0m \n\u001b[1;32m      <a href='vscode-notebook-cell:/home/long/Desktop/Machine-Learning-with-Scikit-learn-and-Pytorch-BOOK/Chapter%2015%3A%20RNNs.ipynb#W3sZmlsZQ%3D%3D?line=5'>6</a>\u001b[0m \u001b[39m# Download the data IMDB from torchtext\u001b[39;00m\n\u001b[1;32m      <a href='vscode-notebook-cell:/home/long/Desktop/Machine-Learning-with-Scikit-learn-and-Pytorch-BOOK/Chapter%2015%3A%20RNNs.ipynb#W3sZmlsZQ%3D%3D?line=6'>7</a>\u001b[0m \u001b[39mfrom\u001b[39;00m \u001b[39mtorchtext\u001b[39;00m\u001b[39m.\u001b[39;00m\u001b[39mdatasets\u001b[39;00m \u001b[39mimport\u001b[39;00m IMDB\n\u001b[0;32m----> <a href='vscode-notebook-cell:/home/long/Desktop/Machine-Learning-with-Scikit-learn-and-Pytorch-BOOK/Chapter%2015%3A%20RNNs.ipynb#W3sZmlsZQ%3D%3D?line=7'>8</a>\u001b[0m train_dataset \u001b[39m=\u001b[39m IMDB(split\u001b[39m=\u001b[39;49m\u001b[39m\"\u001b[39;49m\u001b[39mtrain\u001b[39;49m\u001b[39m\"\u001b[39;49m)\n\u001b[1;32m      <a href='vscode-notebook-cell:/home/long/Desktop/Machine-Learning-with-Scikit-learn-and-Pytorch-BOOK/Chapter%2015%3A%20RNNs.ipynb#W3sZmlsZQ%3D%3D?line=8'>9</a>\u001b[0m test_dataset \u001b[39m=\u001b[39m IMDB(split\u001b[39m=\u001b[39m\u001b[39m\"\u001b[39m\u001b[39mtest\u001b[39m\u001b[39m\"\u001b[39m)\n",
      "File \u001b[0;32m~/anaconda3/lib/python3.9/site-packages/torchtext/data/datasets_utils.py:193\u001b[0m, in \u001b[0;36m_create_dataset_directory.<locals>.decorator.<locals>.wrapper\u001b[0;34m(root, *args, **kwargs)\u001b[0m\n\u001b[1;32m    191\u001b[0m \u001b[39mif\u001b[39;00m \u001b[39mnot\u001b[39;00m os\u001b[39m.\u001b[39mpath\u001b[39m.\u001b[39mexists(new_root):\n\u001b[1;32m    192\u001b[0m     os\u001b[39m.\u001b[39mmakedirs(new_root, exist_ok\u001b[39m=\u001b[39m\u001b[39mTrue\u001b[39;00m)\n\u001b[0;32m--> 193\u001b[0m \u001b[39mreturn\u001b[39;00m fn(root\u001b[39m=\u001b[39;49mnew_root, \u001b[39m*\u001b[39;49margs, \u001b[39m*\u001b[39;49m\u001b[39m*\u001b[39;49mkwargs)\n",
      "File \u001b[0;32m~/anaconda3/lib/python3.9/site-packages/torchtext/data/datasets_utils.py:155\u001b[0m, in \u001b[0;36m_wrap_split_argument_with_fn.<locals>.new_fn\u001b[0;34m(root, split, **kwargs)\u001b[0m\n\u001b[1;32m    153\u001b[0m result \u001b[39m=\u001b[39m []\n\u001b[1;32m    154\u001b[0m \u001b[39mfor\u001b[39;00m item \u001b[39min\u001b[39;00m _check_default_set(split, splits, fn\u001b[39m.\u001b[39m\u001b[39m__name__\u001b[39m):\n\u001b[0;32m--> 155\u001b[0m     result\u001b[39m.\u001b[39mappend(fn(root, item, \u001b[39m*\u001b[39;49m\u001b[39m*\u001b[39;49mkwargs))\n\u001b[1;32m    156\u001b[0m \u001b[39mreturn\u001b[39;00m _wrap_datasets(\u001b[39mtuple\u001b[39m(result), split)\n",
      "File \u001b[0;32m~/anaconda3/lib/python3.9/site-packages/torchtext/datasets/imdb.py:93\u001b[0m, in \u001b[0;36mIMDB\u001b[0;34m(root, split)\u001b[0m\n\u001b[1;32m     88\u001b[0m \u001b[39mif\u001b[39;00m \u001b[39mnot\u001b[39;00m is_module_available(\u001b[39m\"\u001b[39m\u001b[39mtorchdata\u001b[39m\u001b[39m\"\u001b[39m):\n\u001b[1;32m     89\u001b[0m     \u001b[39mraise\u001b[39;00m \u001b[39mModuleNotFoundError\u001b[39;00m(\n\u001b[1;32m     90\u001b[0m         \u001b[39m\"\u001b[39m\u001b[39mPackage `torchdata` not found. Please install following instructions at https://github.com/pytorch/data\u001b[39m\u001b[39m\"\u001b[39m\n\u001b[1;32m     91\u001b[0m     )\n\u001b[0;32m---> 93\u001b[0m url_dp \u001b[39m=\u001b[39m IterableWrapper([URL])\n\u001b[1;32m     95\u001b[0m cache_compressed_dp \u001b[39m=\u001b[39m url_dp\u001b[39m.\u001b[39mon_disk_cache(\n\u001b[1;32m     96\u001b[0m     filepath_fn\u001b[39m=\u001b[39mpartial(_filepath_fn, root),\n\u001b[1;32m     97\u001b[0m     hash_dict\u001b[39m=\u001b[39m{_filepath_fn(root): MD5},\n\u001b[1;32m     98\u001b[0m     hash_type\u001b[39m=\u001b[39m\u001b[39m\"\u001b[39m\u001b[39mmd5\u001b[39m\u001b[39m\"\u001b[39m,\n\u001b[1;32m     99\u001b[0m )\n\u001b[1;32m    100\u001b[0m cache_compressed_dp \u001b[39m=\u001b[39m HttpReader(cache_compressed_dp)\u001b[39m.\u001b[39mend_caching(mode\u001b[39m=\u001b[39m\u001b[39m\"\u001b[39m\u001b[39mwb\u001b[39m\u001b[39m\"\u001b[39m, same_filepath_fn\u001b[39m=\u001b[39m\u001b[39mTrue\u001b[39;00m)\n",
      "\u001b[0;31mNameError\u001b[0m: name 'IterableWrapper' is not defined"
     ]
    }
   ],
   "source": [
    "# Preparing the movie review data\n",
    "# We will use the IMDB movie review dataset to train our RNN.\n",
    "# The dataset is a collection of reviews of movies.\n",
    "# Each review has a label, indicating if the review is positive or negative.\n",
    "\n",
    "# Download the data IMDB from torchtext\n",
    "from torchtext.datasets import IMDB\n",
    "train_dataset = IMDB(split=\"train\")\n",
    "test_dataset = IMDB(split=\"test\")\n"
   ]
  },
  {
   "cell_type": "code",
   "execution_count": null,
   "metadata": {},
   "outputs": [],
   "source": []
  }
 ],
 "metadata": {
  "kernelspec": {
   "display_name": "Python 3.9.12 ('base')",
   "language": "python",
   "name": "python3"
  },
  "language_info": {
   "codemirror_mode": {
    "name": "ipython",
    "version": 3
   },
   "file_extension": ".py",
   "mimetype": "text/x-python",
   "name": "python",
   "nbconvert_exporter": "python",
   "pygments_lexer": "ipython3",
   "version": "3.9.12"
  },
  "orig_nbformat": 4,
  "vscode": {
   "interpreter": {
    "hash": "97209a51df74c849a6f974ac09e644e15d8f6ee56674caa6f92a555da95e9ac0"
   }
  }
 },
 "nbformat": 4,
 "nbformat_minor": 2
}
